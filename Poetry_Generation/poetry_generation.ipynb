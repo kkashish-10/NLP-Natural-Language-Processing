{
 "cells": [
  {
   "cell_type": "markdown",
   "metadata": {},
   "source": [
    "<h1> Poetry Generation using Deep Learning</h1>\n",
    "    - Kashish\n",
    "\n",
    "<h3>Problem Statement</h2>\n",
    "We have a collection of Poems lets say Irish Poems, we want to built a Deep Learning System that could generate similar Poems.\n",
    "\n",
    "<h3>Collecting the Data</h3>\n",
    "<h5>Data:</h5>\n",
    "Our data is a collection of Irish poems, and we fetched it from the following link<br>\n",
    "  https://storage.googleapis.com/laurencemoroney-blog.appspot.com/irish-lyrics-eof.txt\n"
   ]
  },
  {
   "cell_type": "code",
   "execution_count": 2,
   "metadata": {},
   "outputs": [
    {
     "name": "stderr",
     "output_type": "stream",
     "text": [
      "--2022-01-29 14:24:30--  http://%5C/\n",
      "Resolving \\\\ (\\\\)... failed: No such host is known. .\n",
      "wget: unable to resolve host address '\\\\'\n",
      "--2022-01-29 14:24:30--  https://storage.googleapis.com/laurencemoroney-blog.appspot.com/irish-lyrics-eof.txt\n",
      "Resolving storage.googleapis.com (storage.googleapis.com)... 216.58.196.208, 142.250.194.80, 142.250.194.48, ...\n",
      "Connecting to storage.googleapis.com (storage.googleapis.com)|216.58.196.208|:443... connected.\n",
      "WARNING: cannot verify storage.googleapis.com's certificate, issued by 'CN=GTS CA 1C3,O=Google Trust Services LLC,C=US':\n",
      "  Unable to locally verify the issuer's authority.\n",
      "HTTP request sent, awaiting response... 200 OK\n",
      "Length: 68970 (67K) [text/plain]\n",
      "Saving to: 'irish_poetry.txt'\n",
      "\n",
      "     0K .......... .......... .......... .......... .......... 74%  377K 0s\n",
      "    50K .......... .......                                    100%  207K=0.2s\n",
      "\n",
      "2022-01-29 14:24:31 (311 KB/s) - 'irish_poetry.txt' saved [68970/68970]\n",
      "\n",
      "--2022-01-29 14:24:31--  http://%5C/\n",
      "Resolving \\\\ (\\\\)... failed: No such host is known. .\n",
      "wget: unable to resolve host address '\\\\'\n",
      "FINISHED --2022-01-29 14:24:31--\n",
      "Total wall clock time: 1.1s\n",
      "Downloaded: 1 files, 67K in 0.2s (311 KB/s)\n"
     ]
    }
   ],
   "source": [
    "!wget --no-check-certificate \\ https://storage.googleapis.com/laurencemoroney-blog.appspot.com/irish-lyrics-eof.txt \\ -O irish_poetry.txt"
   ]
  },
  {
   "cell_type": "markdown",
   "metadata": {},
   "source": [
    "<h5>Data Sample</h5>\n",
    "\"Come all ye maidens young and fair\n",
    "And you that are blooming in your prime\n",
    "Always beware and keep your garden fair\n",
    "Let no man steal away your thyme\n",
    "For thyme it is a precious thing\n",
    "And thyme brings all things to my mind ... \"\n"
   ]
  },
  {
   "cell_type": "code",
   "execution_count": 2,
   "metadata": {},
   "outputs": [
    {
     "data": {
      "text/plain": [
       "['come all ye maidens young and fair',\n",
       " 'and you that are blooming in your prime',\n",
       " 'always beware and keep your garden fair',\n",
       " 'let no man steal away your thyme',\n",
       " 'for thyme it is a precious thing',\n",
       " 'and thyme brings all things to my mind',\n",
       " 'nlyme with all its flavours, along with all its joys',\n",
       " 'thyme, brings all things to my mind',\n",
       " 'once i and a bunch of thyme',\n",
       " 'i thought it never would decay']"
      ]
     },
     "execution_count": 2,
     "metadata": {},
     "output_type": "execute_result"
    }
   ],
   "source": [
    "raw_data = open(r\"../Poetry_Generation/irish_poetry.txt\", encoding=\"utf-8\").read()\n",
    "raw_data = raw_data.lower().split(\"\\n\")[:-1]\n",
    "raw_data[0:10]\n"
   ]
  },
  {
   "cell_type": "markdown",
   "metadata": {},
   "source": [
    "<h3>Exploratory Data Analysis</h3>\n"
   ]
  },
  {
   "cell_type": "code",
   "execution_count": 3,
   "metadata": {},
   "outputs": [
    {
     "name": "stdout",
     "output_type": "stream",
     "text": [
      "Number of poem lines in dataset : 1691\n"
     ]
    }
   ],
   "source": [
    "# count no. of lines in dataset\n",
    "print(\"Number of poem lines in dataset : {}\".format(len(raw_data) - 1))\n"
   ]
  },
  {
   "cell_type": "code",
   "execution_count": 4,
   "metadata": {},
   "outputs": [],
   "source": [
    "from tensorflow.keras.preprocessing.text import Tokenizer\n"
   ]
  },
  {
   "cell_type": "code",
   "execution_count": 5,
   "metadata": {},
   "outputs": [
    {
     "name": "stdout",
     "output_type": "stream",
     "text": [
      "Number of unique words in dataset : 2689\n"
     ]
    }
   ],
   "source": [
    "# count no. of unique words in dataset\n",
    "tokenizer = Tokenizer()\n",
    "tokenizer.fit_on_texts(raw_data)\n",
    "print(\"Number of unique words in dataset : {}\".format(len(tokenizer.word_index)))\n"
   ]
  },
  {
   "cell_type": "code",
   "execution_count": 6,
   "metadata": {},
   "outputs": [
    {
     "name": "stdout",
     "output_type": "stream",
     "text": [
      "Max length of a sentence : 16\n",
      "Min length of a sentence : 2\n"
     ]
    }
   ],
   "source": [
    "# finding minimum and maximum no. of words in a sentence\n",
    "data_tokenized = tokenizer.texts_to_sequences(raw_data)\n",
    "lines_length = [len(sentence) for sentence in data_tokenized]\n",
    "print(\n",
    "    \"Max length of a sentence : {}\\nMin length of a sentence : {}\".format(\n",
    "        max(lines_length), min(lines_length)\n",
    "    )\n",
    ")\n"
   ]
  },
  {
   "cell_type": "code",
   "execution_count": 7,
   "metadata": {},
   "outputs": [],
   "source": [
    "# plot a graph (  what against what )\n",
    "from matplotlib.pyplot import hist, show, title, xlabel, ylabel, grid\n",
    "from numpy import arange\n"
   ]
  },
  {
   "cell_type": "code",
   "execution_count": 8,
   "metadata": {},
   "outputs": [
    {
     "data": {
      "image/png": "[encoded data removed]",
      "text/plain": [
       "<Figure size 432x288 with 1 Axes>"
      ]
     },
     "metadata": {
      "needs_background": "light"
     },
     "output_type": "display_data"
    }
   ],
   "source": [
    "hist(lines_length, bins=arange(2, 18) - 0.5, facecolor=\"r\")\n",
    "title(\"No. of words in different sentences\")\n",
    "xlabel(\"No. of words\")\n",
    "ylabel(\"Count of sentences having x no. of words\")\n",
    "grid(True)\n",
    "show()\n"
   ]
  },
  {
   "cell_type": "markdown",
   "metadata": {},
   "source": [
    "<h3>Prepare the data to feed to model for training<h3>\n",
    "\n",
    "<h5>Steps:</h5>\n",
    "\n",
    "1. Tokenizing the data, using a word tokenizer.\n",
    "2. Create n-gram sequences.\n",
    "3. Pre-padding the sentences to make them of equal lengths.\n",
    "4. Splitting the last word from each sentence to form label.\n",
    "\n",
    "For example:\n",
    "\n",
    "<li> Sentence: 'Come all ye maidens young and fair'</l1><br><br>\n",
    "<li> Step-1: [51, 12, 96, 1217, 48, 2, 69]</li><br>\n",
    "<li> Step-2: <br>&emsp;[51, 12],<br>&emsp;[51, 12, 96],<br>&emsp;[51, 12, 96, 1217],<br>&emsp;[51, 12, 96, 1217, 48],<br>&emsp;[51, 12, 96, 1217, 48, 2],<br>&emsp;[51, 12, 96, 1217, 48, 2, 69],</li><br>\n",
    "<li> Step-3:<br>&emsp;[ 0, 0, 0, 0, 0, 0, 0, 0, 0, 0, 0, 0, 0, 0, 51, 12]<br>&emsp;[ 0, 0, 0, 0, 0, 0, 0, 0, 0, 0, 0, 0, 0, 51, 12, 96]<br>&emsp;[ 0, 0, 0, 0, 0, 0, 0, 0, 0, 0, 0, 0, 51, 12, 96, 1217]<br>&emsp;[ 0, 0, 0, 0, 0, 0, 0, 0, 0, 0, 0, 51, 12, 96, 1217, 48]</br>&emsp;[ 0, 0, 0, 0, 0, 0, 0, 0, 0, 0, 51, 12, 96, 1217, 48, 2]<br>&emsp;[ 0, 0, 0, 0, 0, 0, 0, 0, 0, 51, 12, 96, 1217, 48, 2, 69]</li><br>\n",
    "<li> Step-4: Final training sequences and labels.<br>&emsp;[ 0, 0, 0, 0, 0, 0, 0, 0, 0, 0, 0, 0, 0, 0, 51, 12] &emsp;12<br>&emsp;[ 0, 0, 0, 0, 0, 0, 0, 0, 0, 0, 0, 0, 0, 51, 12, 96]&emsp;96<br>&emsp;[ 0, 0, 0, 0, 0, 0, 0, 0, 0, 0, 0, 0, 51, 12, 96, 1217]&emsp;1217<br>&emsp;[ 0, 0, 0, 0, 0, 0, 0, 0, 0, 0, 0, 51, 12, 96, 1217, 48]&emsp;48<br>&emsp;[ 0, 0, 0, 0, 0, 0, 0, 0, 0, 0, 51, 12, 96, 1217, 48, 2]&emsp;2<br>&emsp;[ 0, 0, 0, 0, 0, 0, 0, 0, 0, 51, 12, 96, 1217, 48, 2, 69]&emsp;69<br>&emsp;</li>\n"
   ]
  },
  {
   "cell_type": "code",
   "execution_count": 9,
   "metadata": {},
   "outputs": [],
   "source": [
    "# tokenizer the data using Tokenizer from tensorflow.keras.preprocessing.text\n",
    "tokenizer = Tokenizer()\n",
    "tokenizer.fit_on_texts(raw_data)\n",
    "data_tokenized = tokenizer.texts_to_sequences(raw_data)\n"
   ]
  },
  {
   "cell_type": "markdown",
   "metadata": {},
   "source": [
    "<h5>Creating N-gram Sequences </h5>\n"
   ]
  },
  {
   "cell_type": "code",
   "execution_count": 10,
   "metadata": {},
   "outputs": [],
   "source": [
    "training_sequences = []\n",
    "for sequence in data_tokenized:\n",
    "    for i in range(2, len(sequence) + 1):\n",
    "        training_sequences.append(sequence[:i])\n"
   ]
  },
  {
   "cell_type": "markdown",
   "metadata": {},
   "source": [
    "<h5>Padding the data with zeros.</h5>\n"
   ]
  },
  {
   "cell_type": "code",
   "execution_count": 11,
   "metadata": {},
   "outputs": [],
   "source": [
    "from tensorflow.keras.preprocessing.sequence import pad_sequences\n",
    "\n",
    "padded_sequences = pad_sequences(sequences=training_sequences)\n"
   ]
  },
  {
   "cell_type": "markdown",
   "metadata": {},
   "source": [
    "prepare the training data\n"
   ]
  },
  {
   "cell_type": "code",
   "execution_count": 12,
   "metadata": {},
   "outputs": [],
   "source": [
    "x_train, y_train = padded_sequences[:, :-1], padded_sequences[:, -1]\n"
   ]
  },
  {
   "cell_type": "markdown",
   "metadata": {},
   "source": [
    "<h5>Training the Model</h5>\n",
    "We are using a Sequential model with the following layers:\n",
    "\n",
    "1. Embedding\n",
    "2. Bidirectional LSTM\n",
    "3. Dropout\n",
    "4. LSTM\n",
    "5. Dense\n",
    "6. Dense\n",
    "\n",
    "The parameters used are :\n",
    "\n",
    "<li>vocab_size=len(tokenizer.word_index)+1\n",
    "<li>wv_dims=100\n",
    "<li>input_length=x_train.shape[1]\n",
    "<li>dropout_rate=0.2\n",
    "<li>lstm_units=128\n",
    "<li>regularization_rate=0.01\n",
    "<li>epochs=50\n"
   ]
  },
  {
   "cell_type": "code",
   "execution_count": 13,
   "metadata": {},
   "outputs": [],
   "source": [
    "# setting the parameters for model with Bidirectional LSTM and LSTM layers\n",
    "vocab_size = len(tokenizer.word_index) + 1\n",
    "wv_dims = 100\n",
    "input_length = x_train.shape[1]\n",
    "dropout_rate = 0.2\n",
    "lstm_units = 128\n",
    "regularization_rate = 0.01\n",
    "epochs = 50\n"
   ]
  },
  {
   "cell_type": "code",
   "execution_count": 14,
   "metadata": {},
   "outputs": [],
   "source": [
    "from tensorflow.keras import Sequential\n",
    "from tensorflow.keras.layers import Embedding, Bidirectional, LSTM, Dropout, Dense\n",
    "from tensorflow.keras import regularizers\n",
    "from tensorflow.keras.callbacks import ModelCheckpoint\n"
   ]
  },
  {
   "cell_type": "code",
   "execution_count": 16,
   "metadata": {},
   "outputs": [
    {
     "name": "stdout",
     "output_type": "stream",
     "text": [
      "Model: \"sequential_1\"\n",
      "_________________________________________________________________\n",
      " Layer (type)                Output Shape              Param #   \n",
      "=================================================================\n",
      " embedding_1 (Embedding)     (None, 15, 100)           269000    \n",
      "                                                                 \n",
      " bidirectional_1 (Bidirectio  (None, 15, 256)          234496    \n",
      " nal)                                                            \n",
      "                                                                 \n",
      " dropout_1 (Dropout)         (None, 15, 256)           0         \n",
      "                                                                 \n",
      " lstm_3 (LSTM)               (None, 128)               197120    \n",
      "                                                                 \n",
      " dense_2 (Dense)             (None, 672)               86688     \n",
      "                                                                 \n",
      " dense_3 (Dense)             (None, 2690)              1810370   \n",
      "                                                                 \n",
      "=================================================================\n",
      "Total params: 2,597,674\n",
      "Trainable params: 2,597,674\n",
      "Non-trainable params: 0\n",
      "_________________________________________________________________\n"
     ]
    }
   ],
   "source": [
    "model = Sequential()\n",
    "model.add(Embedding(vocab_size, wv_dims, input_length=input_length))\n",
    "model.add(Bidirectional(LSTM(lstm_units, return_sequences=True)))\n",
    "model.add(Dropout(dropout_rate))\n",
    "model.add(LSTM(lstm_units))\n",
    "model.add(\n",
    "    Dense(\n",
    "        vocab_size // 4,\n",
    "        activation=\"relu\",\n",
    "        activity_regularizer=regularizers.L2(regularization_rate),\n",
    "    )\n",
    ")\n",
    "model.add(Dense(vocab_size, activation=\"softmax\"))\n",
    "model.compile(\n",
    "    optimizer=\"adam\", loss=\"sparse_categorical_crossentropy\", metrics=[\"accuracy\"]\n",
    ")\n",
    "checkpoint = ModelCheckpoint(\n",
    "    \"../Poetry_Generation/poetry_model_bidrec_LSTM.weights.best.hdf5\",\n",
    "    monitor=\"val_accuracy\",\n",
    "    verbose=1,\n",
    "    save_best_only=True,\n",
    "    mode=\"max\",\n",
    ")\n",
    "model.summary()\n"
   ]
  },
  {
   "cell_type": "code",
   "execution_count": 17,
   "metadata": {},
   "outputs": [
    {
     "name": "stdout",
     "output_type": "stream",
     "text": [
      "Epoch 1/50\n",
      "301/301 [==============================] - ETA: 0s - loss: 6.7991 - accuracy: 0.0626\n",
      "Epoch 00001: val_accuracy improved from -inf to 0.07558, saving model to ../Poetry_Generation\\poetry_model_bidrec_LSTM.weights.best.hdf5\n",
      "301/301 [==============================] - 29s 73ms/step - loss: 6.7991 - accuracy: 0.0626 - val_loss: 6.7137 - val_accuracy: 0.0756\n",
      "Epoch 2/50\n",
      "301/301 [==============================] - ETA: 0s - loss: 6.2371 - accuracy: 0.0681\n",
      "Epoch 00002: val_accuracy improved from 0.07558 to 0.08513, saving model to ../Poetry_Generation\\poetry_model_bidrec_LSTM.weights.best.hdf5\n",
      "301/301 [==============================] - 23s 78ms/step - loss: 6.2371 - accuracy: 0.0681 - val_loss: 6.7452 - val_accuracy: 0.0851\n",
      "Epoch 3/50\n",
      "301/301 [==============================] - ETA: 0s - loss: 6.0043 - accuracy: 0.0780\n",
      "Epoch 00003: val_accuracy did not improve from 0.08513\n",
      "301/301 [==============================] - 26s 85ms/step - loss: 6.0043 - accuracy: 0.0780 - val_loss: 6.8311 - val_accuracy: 0.0851\n",
      "Epoch 4/50\n",
      "301/301 [==============================] - ETA: 0s - loss: 5.7887 - accuracy: 0.0870\n",
      "Epoch 00004: val_accuracy improved from 0.08513 to 0.08846, saving model to ../Poetry_Generation\\poetry_model_bidrec_LSTM.weights.best.hdf5\n",
      "301/301 [==============================] - 24s 79ms/step - loss: 5.7887 - accuracy: 0.0870 - val_loss: 6.8756 - val_accuracy: 0.0885\n",
      "Epoch 5/50\n",
      "301/301 [==============================] - ETA: 0s - loss: 5.5144 - accuracy: 0.1040 ETA: \n",
      "Epoch 00005: val_accuracy did not improve from 0.08846\n",
      "301/301 [==============================] - 24s 80ms/step - loss: 5.5144 - accuracy: 0.1040 - val_loss: 7.1469 - val_accuracy: 0.0872\n",
      "Epoch 6/50\n",
      "301/301 [==============================] - ETA: 0s - loss: 5.2525 - accuracy: 0.1165\n",
      "Epoch 00006: val_accuracy did not improve from 0.08846\n",
      "301/301 [==============================] - 23s 75ms/step - loss: 5.2525 - accuracy: 0.1165 - val_loss: 7.1601 - val_accuracy: 0.0868\n",
      "Epoch 7/50\n",
      "301/301 [==============================] - ETA: 0s - loss: 5.0145 - accuracy: 0.1317\n",
      "Epoch 00007: val_accuracy improved from 0.08846 to 0.09012, saving model to ../Poetry_Generation\\poetry_model_bidrec_LSTM.weights.best.hdf5\n",
      "301/301 [==============================] - 20s 65ms/step - loss: 5.0145 - accuracy: 0.1317 - val_loss: 7.3549 - val_accuracy: 0.0901\n",
      "Epoch 8/50\n",
      "301/301 [==============================] - ETA: 0s - loss: 4.7832 - accuracy: 0.1465\n",
      "Epoch 00008: val_accuracy did not improve from 0.09012\n",
      "301/301 [==============================] - 20s 65ms/step - loss: 4.7832 - accuracy: 0.1465 - val_loss: 7.4723 - val_accuracy: 0.0814\n",
      "Epoch 9/50\n",
      "301/301 [==============================] - ETA: 0s - loss: 4.5436 - accuracy: 0.1669\n",
      "Epoch 00009: val_accuracy did not improve from 0.09012\n",
      "301/301 [==============================] - 25s 84ms/step - loss: 4.5436 - accuracy: 0.1669 - val_loss: 7.7184 - val_accuracy: 0.0818\n",
      "Epoch 10/50\n",
      "301/301 [==============================] - ETA: 0s - loss: 4.2994 - accuracy: 0.1825\n",
      "Epoch 00010: val_accuracy did not improve from 0.09012\n",
      "301/301 [==============================] - 26s 87ms/step - loss: 4.2994 - accuracy: 0.1825 - val_loss: 7.9763 - val_accuracy: 0.0801\n",
      "Epoch 11/50\n",
      "301/301 [==============================] - ETA: 0s - loss: 4.0448 - accuracy: 0.2065\n",
      "Epoch 00011: val_accuracy did not improve from 0.09012\n",
      "301/301 [==============================] - 23s 75ms/step - loss: 4.0448 - accuracy: 0.2065 - val_loss: 8.2463 - val_accuracy: 0.0772\n",
      "Epoch 12/50\n",
      "301/301 [==============================] - ETA: 0s - loss: 3.7860 - accuracy: 0.2375\n",
      "Epoch 00012: val_accuracy did not improve from 0.09012\n",
      "301/301 [==============================] - 22s 74ms/step - loss: 3.7860 - accuracy: 0.2375 - val_loss: 8.6313 - val_accuracy: 0.0723\n",
      "Epoch 13/50\n",
      "301/301 [==============================] - ETA: 0s - loss: 3.5139 - accuracy: 0.2789\n",
      "Epoch 00013: val_accuracy did not improve from 0.09012\n",
      "301/301 [==============================] - 25s 82ms/step - loss: 3.5139 - accuracy: 0.2789 - val_loss: 8.8723 - val_accuracy: 0.0689\n",
      "Epoch 14/50\n",
      "301/301 [==============================] - ETA: 0s - loss: 3.2423 - accuracy: 0.3213\n",
      "Epoch 00014: val_accuracy did not improve from 0.09012\n",
      "301/301 [==============================] - 26s 86ms/step - loss: 3.2423 - accuracy: 0.3213 - val_loss: 9.1460 - val_accuracy: 0.0660\n",
      "Epoch 15/50\n",
      "301/301 [==============================] - ETA: 0s - loss: 2.9514 - accuracy: 0.3827\n",
      "Epoch 00015: val_accuracy did not improve from 0.09012\n",
      "301/301 [==============================] - 23s 76ms/step - loss: 2.9514 - accuracy: 0.3827 - val_loss: 9.6604 - val_accuracy: 0.0685\n",
      "Epoch 16/50\n",
      "301/301 [==============================] - ETA: 0s - loss: 2.6812 - accuracy: 0.4503\n",
      "Epoch 00016: val_accuracy did not improve from 0.09012\n",
      "301/301 [==============================] - 24s 81ms/step - loss: 2.6812 - accuracy: 0.4503 - val_loss: 9.9607 - val_accuracy: 0.0664\n",
      "Epoch 17/50\n",
      "301/301 [==============================] - ETA: 0s - loss: 2.4154 - accuracy: 0.5178\n",
      "Epoch 00017: val_accuracy did not improve from 0.09012\n",
      "301/301 [==============================] - 23s 76ms/step - loss: 2.4154 - accuracy: 0.5178 - val_loss: 10.2067 - val_accuracy: 0.0656\n",
      "Epoch 18/50\n",
      "301/301 [==============================] - ETA: 0s - loss: 2.1690 - accuracy: 0.5813\n",
      "Epoch 00018: val_accuracy did not improve from 0.09012\n",
      "301/301 [==============================] - 24s 79ms/step - loss: 2.1690 - accuracy: 0.5813 - val_loss: 10.4135 - val_accuracy: 0.0714\n",
      "Epoch 19/50\n",
      "301/301 [==============================] - ETA: 0s - loss: 1.9511 - accuracy: 0.6376\n",
      "Epoch 00019: val_accuracy did not improve from 0.09012\n",
      "301/301 [==============================] - 22s 73ms/step - loss: 1.9511 - accuracy: 0.6376 - val_loss: 10.7027 - val_accuracy: 0.0677\n",
      "Epoch 20/50\n",
      "301/301 [==============================] - ETA: 0s - loss: 1.7648 - accuracy: 0.6872\n",
      "Epoch 00020: val_accuracy did not improve from 0.09012\n",
      "301/301 [==============================] - 25s 83ms/step - loss: 1.7648 - accuracy: 0.6872 - val_loss: 10.9330 - val_accuracy: 0.0685\n",
      "Epoch 21/50\n",
      "301/301 [==============================] - ETA: 0s - loss: 1.6066 - accuracy: 0.7253\n",
      "Epoch 00021: val_accuracy did not improve from 0.09012\n",
      "301/301 [==============================] - 25s 82ms/step - loss: 1.6066 - accuracy: 0.7253 - val_loss: 11.0610 - val_accuracy: 0.0731\n",
      "Epoch 22/50\n",
      "301/301 [==============================] - ETA: 0s - loss: 1.4673 - accuracy: 0.7590\n",
      "Epoch 00022: val_accuracy did not improve from 0.09012\n",
      "301/301 [==============================] - 26s 87ms/step - loss: 1.4673 - accuracy: 0.7590 - val_loss: 11.1608 - val_accuracy: 0.0710\n",
      "Epoch 23/50\n",
      "301/301 [==============================] - ETA: 0s - loss: 1.3521 - accuracy: 0.7800\n",
      "Epoch 00023: val_accuracy did not improve from 0.09012\n",
      "301/301 [==============================] - 21s 69ms/step - loss: 1.3521 - accuracy: 0.7800 - val_loss: 11.1573 - val_accuracy: 0.0689\n",
      "Epoch 24/50\n",
      "301/301 [==============================] - ETA: 0s - loss: 1.2529 - accuracy: 0.8012\n",
      "Epoch 00024: val_accuracy did not improve from 0.09012\n",
      "301/301 [==============================] - 19s 64ms/step - loss: 1.2529 - accuracy: 0.8012 - val_loss: 11.1868 - val_accuracy: 0.0760\n",
      "Epoch 25/50\n",
      "301/301 [==============================] - ETA: 0s - loss: 1.1751 - accuracy: 0.8148\n",
      "Epoch 00025: val_accuracy did not improve from 0.09012\n",
      "301/301 [==============================] - 19s 65ms/step - loss: 1.1751 - accuracy: 0.8148 - val_loss: 11.2944 - val_accuracy: 0.0718\n",
      "Epoch 26/50\n",
      "301/301 [==============================] - ETA: 0s - loss: 1.1067 - accuracy: 0.8248\n",
      "Epoch 00026: val_accuracy did not improve from 0.09012\n",
      "301/301 [==============================] - 20s 66ms/step - loss: 1.1067 - accuracy: 0.8248 - val_loss: 11.0894 - val_accuracy: 0.0714\n",
      "Epoch 27/50\n",
      "301/301 [==============================] - ETA: 0s - loss: 1.0438 - accuracy: 0.8329 ETA: 0s - l\n",
      "Epoch 00027: val_accuracy did not improve from 0.09012\n",
      "301/301 [==============================] - 20s 65ms/step - loss: 1.0438 - accuracy: 0.8329 - val_loss: 11.2787 - val_accuracy: 0.0714\n",
      "Epoch 28/50\n",
      "301/301 [==============================] - ETA: 0s - loss: 0.9986 - accuracy: 0.8390\n",
      "Epoch 00028: val_accuracy did not improve from 0.09012\n",
      "301/301 [==============================] - 26s 87ms/step - loss: 0.9986 - accuracy: 0.8390 - val_loss: 11.0137 - val_accuracy: 0.0710\n",
      "Epoch 29/50\n",
      "301/301 [==============================] - ETA: 0s - loss: 0.9510 - accuracy: 0.8466\n",
      "Epoch 00029: val_accuracy did not improve from 0.09012\n",
      "301/301 [==============================] - 23s 77ms/step - loss: 0.9510 - accuracy: 0.8466 - val_loss: 10.9827 - val_accuracy: 0.0664\n",
      "Epoch 30/50\n",
      "301/301 [==============================] - ETA: 0s - loss: 0.9082 - accuracy: 0.8501\n",
      "Epoch 00030: val_accuracy did not improve from 0.09012\n",
      "301/301 [==============================] - 22s 74ms/step - loss: 0.9082 - accuracy: 0.8501 - val_loss: 11.0223 - val_accuracy: 0.0735\n",
      "Epoch 31/50\n",
      "301/301 [==============================] - ETA: 0s - loss: 0.8747 - accuracy: 0.8524\n",
      "Epoch 00031: val_accuracy did not improve from 0.09012\n",
      "301/301 [==============================] - 22s 73ms/step - loss: 0.8747 - accuracy: 0.8524 - val_loss: 10.9188 - val_accuracy: 0.0664\n",
      "Epoch 32/50\n",
      "301/301 [==============================] - ETA: 0s - loss: 0.8448 - accuracy: 0.8512\n",
      "Epoch 00032: val_accuracy did not improve from 0.09012\n",
      "301/301 [==============================] - 22s 73ms/step - loss: 0.8448 - accuracy: 0.8512 - val_loss: 10.9287 - val_accuracy: 0.0660\n",
      "Epoch 33/50\n",
      "301/301 [==============================] - ETA: 0s - loss: 0.8219 - accuracy: 0.8547\n",
      "Epoch 00033: val_accuracy did not improve from 0.09012\n",
      "301/301 [==============================] - 22s 74ms/step - loss: 0.8219 - accuracy: 0.8547 - val_loss: 10.9173 - val_accuracy: 0.0702\n",
      "Epoch 34/50\n",
      "301/301 [==============================] - ETA: 0s - loss: 0.7976 - accuracy: 0.8547\n",
      "Epoch 00034: val_accuracy did not improve from 0.09012\n",
      "301/301 [==============================] - 23s 76ms/step - loss: 0.7976 - accuracy: 0.8547 - val_loss: 10.7944 - val_accuracy: 0.0735\n",
      "Epoch 35/50\n",
      "301/301 [==============================] - ETA: 0s - loss: 0.7756 - accuracy: 0.8545\n",
      "Epoch 00035: val_accuracy did not improve from 0.09012\n",
      "301/301 [==============================] - 23s 75ms/step - loss: 0.7756 - accuracy: 0.8545 - val_loss: 10.8167 - val_accuracy: 0.0664\n",
      "Epoch 36/50\n",
      "301/301 [==============================] - ETA: 0s - loss: 0.7576 - accuracy: 0.8560\n",
      "Epoch 00036: val_accuracy did not improve from 0.09012\n",
      "301/301 [==============================] - 23s 76ms/step - loss: 0.7576 - accuracy: 0.8560 - val_loss: 10.9430 - val_accuracy: 0.0694\n",
      "Epoch 37/50\n",
      "301/301 [==============================] - ETA: 0s - loss: 0.7362 - accuracy: 0.8587\n",
      "Epoch 00037: val_accuracy did not improve from 0.09012\n",
      "301/301 [==============================] - 24s 80ms/step - loss: 0.7362 - accuracy: 0.8587 - val_loss: 10.7737 - val_accuracy: 0.0673\n",
      "Epoch 38/50\n",
      "301/301 [==============================] - ETA: 0s - loss: 0.7256 - accuracy: 0.8549\n",
      "Epoch 00038: val_accuracy did not improve from 0.09012\n",
      "301/301 [==============================] - 23s 78ms/step - loss: 0.7256 - accuracy: 0.8549 - val_loss: 10.8430 - val_accuracy: 0.0735\n",
      "Epoch 39/50\n",
      "301/301 [==============================] - ETA: 0s - loss: 0.7080 - accuracy: 0.8584\n",
      "Epoch 00039: val_accuracy did not improve from 0.09012\n",
      "301/301 [==============================] - 23s 77ms/step - loss: 0.7080 - accuracy: 0.8584 - val_loss: 10.5223 - val_accuracy: 0.0685\n",
      "Epoch 40/50\n",
      "301/301 [==============================] - ETA: 0s - loss: 0.6955 - accuracy: 0.8588\n",
      "Epoch 00040: val_accuracy did not improve from 0.09012\n",
      "301/301 [==============================] - 24s 79ms/step - loss: 0.6955 - accuracy: 0.8588 - val_loss: 10.7524 - val_accuracy: 0.0727\n",
      "Epoch 41/50\n",
      "301/301 [==============================] - ETA: 0s - loss: 0.6824 - accuracy: 0.8580\n",
      "Epoch 00041: val_accuracy did not improve from 0.09012\n",
      "301/301 [==============================] - 23s 77ms/step - loss: 0.6824 - accuracy: 0.8580 - val_loss: 10.7550 - val_accuracy: 0.0727\n",
      "Epoch 42/50\n",
      "301/301 [==============================] - ETA: 0s - loss: 0.6700 - accuracy: 0.8579\n",
      "Epoch 00042: val_accuracy did not improve from 0.09012\n",
      "301/301 [==============================] - 24s 79ms/step - loss: 0.6700 - accuracy: 0.8579 - val_loss: 10.7309 - val_accuracy: 0.0723\n",
      "Epoch 43/50\n",
      "301/301 [==============================] - ETA: 0s - loss: 0.6601 - accuracy: 0.8569\n",
      "Epoch 00043: val_accuracy did not improve from 0.09012\n",
      "301/301 [==============================] - 24s 80ms/step - loss: 0.6601 - accuracy: 0.8569 - val_loss: 10.6229 - val_accuracy: 0.0731\n",
      "Epoch 44/50\n",
      "301/301 [==============================] - ETA: 0s - loss: 0.6480 - accuracy: 0.8566\n",
      "Epoch 00044: val_accuracy did not improve from 0.09012\n",
      "301/301 [==============================] - 23s 78ms/step - loss: 0.6480 - accuracy: 0.8566 - val_loss: 10.6836 - val_accuracy: 0.0685\n",
      "Epoch 45/50\n",
      "301/301 [==============================] - ETA: 0s - loss: 0.6373 - accuracy: 0.8597\n",
      "Epoch 00045: val_accuracy did not improve from 0.09012\n",
      "301/301 [==============================] - 24s 81ms/step - loss: 0.6373 - accuracy: 0.8597 - val_loss: 10.6406 - val_accuracy: 0.0694\n",
      "Epoch 46/50\n",
      "301/301 [==============================] - ETA: 0s - loss: 0.6219 - accuracy: 0.8614\n",
      "Epoch 00046: val_accuracy did not improve from 0.09012\n",
      "301/301 [==============================] - 24s 78ms/step - loss: 0.6219 - accuracy: 0.8614 - val_loss: 10.6390 - val_accuracy: 0.0698\n",
      "Epoch 47/50\n",
      "301/301 [==============================] - ETA: 0s - loss: 0.6186 - accuracy: 0.8590\n",
      "Epoch 00047: val_accuracy did not improve from 0.09012\n",
      "301/301 [==============================] - 24s 79ms/step - loss: 0.6186 - accuracy: 0.8590 - val_loss: 10.6228 - val_accuracy: 0.0648\n",
      "Epoch 48/50\n",
      "301/301 [==============================] - ETA: 0s - loss: 0.6129 - accuracy: 0.8600\n",
      "Epoch 00048: val_accuracy did not improve from 0.09012\n",
      "301/301 [==============================] - 24s 78ms/step - loss: 0.6129 - accuracy: 0.8600 - val_loss: 10.4146 - val_accuracy: 0.0714\n",
      "Epoch 49/50\n",
      "301/301 [==============================] - ETA: 0s - loss: 0.6050 - accuracy: 0.8590\n",
      "Epoch 00049: val_accuracy did not improve from 0.09012\n",
      "301/301 [==============================] - 23s 78ms/step - loss: 0.6050 - accuracy: 0.8590 - val_loss: 10.4627 - val_accuracy: 0.0673\n",
      "Epoch 50/50\n",
      "301/301 [==============================] - ETA: 0s - loss: 0.6009 - accuracy: 0.8595\n",
      "Epoch 00050: val_accuracy did not improve from 0.09012\n",
      "301/301 [==============================] - 23s 77ms/step - loss: 0.6009 - accuracy: 0.8595 - val_loss: 10.4629 - val_accuracy: 0.0681\n"
     ]
    }
   ],
   "source": [
    "# train the model\n",
    "history = model.fit(\n",
    "    x_train,\n",
    "    y_train,\n",
    "    validation_split=0.2,\n",
    "    verbose=1,\n",
    "    epochs=epochs,\n",
    "    callbacks=[checkpoint],\n",
    ")\n"
   ]
  },
  {
   "cell_type": "code",
   "execution_count": 24,
   "metadata": {},
   "outputs": [],
   "source": [
    "from matplotlib.pyplot import figure, plot, title, ylabel, xlabel, legend, subplot\n"
   ]
  },
  {
   "cell_type": "code",
   "execution_count": 32,
   "metadata": {},
   "outputs": [
    {
     "data": {
      "image/png": "[encoded data removed]",
      "text/plain": [
       "<Figure size 1152x360 with 2 Axes>"
      ]
     },
     "metadata": {
      "needs_background": "light"
     },
     "output_type": "display_data"
    }
   ],
   "source": [
    "# plotting the graphs\n",
    "figure(figsize=(16, 5))\n",
    "subplot(121)\n",
    "title(\"Accuracy improvement with no. of epochs\")\n",
    "plot(history.history[\"accuracy\"])\n",
    "ylabel(\"Accuracy\")\n",
    "xlabel(\"Epochs\")\n",
    "legend([\"Accuracy\"])\n",
    "subplot(122)\n",
    "title(\"Loss reduction with no. of epochs\")\n",
    "plot(history.history[\"loss\"])\n",
    "ylabel(\"Loss\")\n",
    "xlabel(\"Epochs\")\n",
    "legend([\"Loss\"])\n",
    "show()\n"
   ]
  },
  {
   "cell_type": "markdown",
   "metadata": {},
   "source": [
    "<h5>Generate text using learned model</h5>\n"
   ]
  },
  {
   "cell_type": "code",
   "execution_count": 33,
   "metadata": {},
   "outputs": [],
   "source": [
    "from numpy import argmax\n"
   ]
  },
  {
   "cell_type": "code",
   "execution_count": 34,
   "metadata": {},
   "outputs": [],
   "source": [
    "def generate_text(seed_text, next_words):\n",
    "    for _ in range(next_words):\n",
    "        tokenized_string = tokenizer.texts_to_sequences([seed_text])[0]\n",
    "        token_list = pad_sequences([tokenized_string], maxlen=x_train.shape[1])\n",
    "        predicted = argmax(model.predict(token_list, verbose=0), axis=-1)\n",
    "        output_word = \"\"\n",
    "        for word, index in tokenizer.word_index.items():\n",
    "            if index == predicted:\n",
    "                output_word = word\n",
    "                break\n",
    "        seed_text += \" \" + output_word\n",
    "    return seed_text\n"
   ]
  },
  {
   "cell_type": "markdown",
   "metadata": {},
   "source": [
    "<h5>Example 1</h5>\n"
   ]
  },
  {
   "cell_type": "code",
   "execution_count": 35,
   "metadata": {},
   "outputs": [
    {
     "data": {
      "text/plain": [
       "'Oh once great men have fallen i love no more till i took a small drop too much i suppose will see no more dead me that dhu you may encumbered till a fair maid in the town of blarney your wife rude and wild march in our eyes water wrath lies bright and late in my step might break your rest her high fellows of toome today to go very little ditty but i thought it be a pity of peace attend thee and i have none so be forever by your and lines as our eyes and our lips mary and the love light'"
      ]
     },
     "execution_count": 35,
     "metadata": {},
     "output_type": "execute_result"
    }
   ],
   "source": [
    "seed_text = \"Oh once great men have fallen\"\n",
    "generate_text(seed_text=seed_text, next_words=100)\n"
   ]
  },
  {
   "cell_type": "code",
   "execution_count": 36,
   "metadata": {},
   "outputs": [
    {
     "data": {
      "text/plain": [
       "' i know you love me kathleen dear meet me bond dead and she well i have this proud old woman did say my hair enthralled rude and high motion at night with their fathers my arms young bore a sunday young were a tear in my eyes glisten were sport and all and stainless then i to reap the quality leave where i was born in ballyjamesduff its there in by spancil hill and even when i will be aisey first in me town and thou your drums and guns and drums and guns and drums and guns and drums'"
      ]
     },
     "execution_count": 36,
     "metadata": {},
     "output_type": "execute_result"
    }
   ],
   "source": [
    "generate_text(\"\", 100)\n"
   ]
  },
  {
   "cell_type": "code",
   "execution_count": 37,
   "metadata": {},
   "outputs": [
    {
     "data": {
      "text/plain": [
       "'Thyme, brings all things to my mind would fall bring me blame and he begged for forgiveness i fought to save my jewels seeing desolation round a cask de dow corporal casey me corporal casey me mbó twined play still you your true love say then wid you a fore wid his flute lines play he sets with a county down oer the swell white hand and me in me home i started by daylight bragh as we night out of a juice of the barley and the bran above the pale sands the pale stars above the thorn tree to dublin town in pray wid you'"
      ]
     },
     "execution_count": 37,
     "metadata": {},
     "output_type": "execute_result"
    }
   ],
   "source": [
    "generate_text(\"Thyme, brings all things to my mind\", 100)\n"
   ]
  }
 ],
 "metadata": {
  "interpreter": {
   "hash": "76322c893dab8b09142fd7bae0c6d93651af8b59effcf127727af7ee52d1bae0"
  },
  "kernelspec": {
   "display_name": "Python 3.9.7 64-bit ('base': conda)",
   "language": "python",
   "name": "python3"
  },
  "language_info": {
   "codemirror_mode": {
    "name": "ipython",
    "version": 3
   },
   "file_extension": ".py",
   "mimetype": "text/x-python",
   "name": "python",
   "nbconvert_exporter": "python",
   "pygments_lexer": "ipython3",
   "version": "3.9.7"
  },
  "orig_nbformat": 4
 },
 "nbformat": 4,
 "nbformat_minor": 2
}
