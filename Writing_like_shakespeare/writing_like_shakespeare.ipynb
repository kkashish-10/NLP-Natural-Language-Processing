{
 "cells": [
  {
   "cell_type": "markdown",
   "metadata": {},
   "source": [
    "<h1>Writing Like Shakespeare using Deep Learning</h1>\n",
    "-Kashish\n",
    "<h3>Problem Statement</h3>\n",
    "We have a collection of Shakespeare' Sonnets, we want to build a Deep Learning System using a deep Recurrent Neural Network with a combination of Bidirectional-LSTMs and LSTMs that could help us generate similar poems.\n",
    "\n",
    "<h3>Real-world/Business-objectives and constraints:</h3>\n",
    "\n",
    "1. Minimize multi-class error.\n",
    "2. Multi-class probability estimates.\n",
    "3. Generating output should not take hours and block system resources. It should be efficient enough to work in a few seconds.\n",
    "\n",
    "* All necessary imports are made when required and specific functions/attributes only."
   ]
  },
  {
   "cell_type": "markdown",
   "metadata": {},
   "source": [
    "<h3>Collecting the Data</h3>\n",
    "<h4>Data</h4>\n",
    "\n",
    "Our dataset contains a collection of Shakespeare' Sonnets, downloaded from the following link :\n",
    "https://storage.googleapis.com/laurencemoroney-blog.appspot.com/sonnets.txt\n",
    "\n",
    "<h4>Data Sample</h4>\n",
    "\n",
    "Shall sum my count and make my old excuse,'\n",
    "Proving his beauty by succession thine!\n",
    "This were to be new made when thou art old,\n",
    "And see thy blood warm when thou feel'st it cold.\n",
    "Look in thy glass, and tell the face thou viewest\n",
    "Now is the time that face should form another;\n",
    "Whose fresh repair if now thou not renewest,\n",
    "Thou dost beguile the world, unbless some mother.\n",
    "For where is she so fair whose unear'd womb\n",
    "Disdains the tillage of thy husbandry?"
   ]
  },
  {
   "cell_type": "code",
   "execution_count": 9,
   "metadata": {},
   "outputs": [
    {
     "name": "stderr",
     "output_type": "stream",
     "text": [
      "--2022-01-29 14:24:04--  http://%5C/\n",
      "Resolving \\\\ (\\\\)... failed: No such host is known. .\n",
      "wget: unable to resolve host address '\\\\'\n",
      "--2022-01-29 14:24:04--  https://storage.googleapis.com/laurencemoroney-blog.appspot.com/sonnets.txt\n",
      "Resolving storage.googleapis.com (storage.googleapis.com)... 216.58.196.208, 142.250.194.80, 142.250.194.48, ...\n",
      "Connecting to storage.googleapis.com (storage.googleapis.com)|216.58.196.208|:443... connected.\n",
      "WARNING: cannot verify storage.googleapis.com's certificate, issued by 'CN=GTS CA 1C3,O=Google Trust Services LLC,C=US':\n",
      "  Unable to locally verify the issuer's authority.\n",
      "HTTP request sent, awaiting response... 200 OK\n",
      "Length: 93578 (91K) [text/plain]\n",
      "Saving to: 'sonnets.txt'\n",
      "\n",
      "     0K .......... .......... .......... .......... .......... 54%  376K 0s\n",
      "    50K .......... .......... .......... .......... .         100%  407K=0.2s\n",
      "\n",
      "2022-01-29 14:24:05 (389 KB/s) - 'sonnets.txt' saved [93578/93578]\n",
      "\n",
      "--2022-01-29 14:24:05--  http://%5C/\n",
      "Resolving \\\\ (\\\\)... failed: No such host is known. .\n",
      "wget: unable to resolve host address '\\\\'\n",
      "FINISHED --2022-01-29 14:24:05--\n",
      "Total wall clock time: 0.7s\n",
      "Downloaded: 1 files, 91K in 0.2s (389 KB/s)\n"
     ]
    }
   ],
   "source": [
    "!wget --no-check-certificate \\ https://storage.googleapis.com/laurencemoroney-blog.appspot.com/sonnets.txt \\ -O sonnets.txt "
   ]
  }
 ],
 "metadata": {
  "interpreter": {
   "hash": "76322c893dab8b09142fd7bae0c6d93651af8b59effcf127727af7ee52d1bae0"
  },
  "kernelspec": {
   "display_name": "Python 3.9.7 64-bit ('base': conda)",
   "language": "python",
   "name": "python3"
  },
  "language_info": {
   "codemirror_mode": {
    "name": "ipython",
    "version": 3
   },
   "file_extension": ".py",
   "mimetype": "text/x-python",
   "name": "python",
   "nbconvert_exporter": "python",
   "pygments_lexer": "ipython3",
   "version": "3.9.7"
  },
  "orig_nbformat": 4
 },
 "nbformat": 4,
 "nbformat_minor": 2
}
