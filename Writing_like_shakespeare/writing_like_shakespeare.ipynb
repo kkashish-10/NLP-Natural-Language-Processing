{
 "cells": [
  {
   "cell_type": "markdown",
   "metadata": {},
   "source": [
    "<h1>Writing Like Shakespeare using Deep Learning</h1>\n",
    "-Kashish\n",
    "<h3>Problem Statement</h3>\n",
    "We have a collection of Shakespeare' Sonnets, we want to build a Deep Learning System using a deep Recurrent Neural Network with a combination of Bidirectional-LSTMs and LSTMs that could help us generate similar poems.\n",
    "\n",
    "<h3>Real-world/Business-objectives and constraints:</h3>\n",
    "\n",
    "1. Minimize multi-class error.\n",
    "2. Multi-class probability estimates.\n",
    "3. Generating output should not take hours and block system resources. It should be efficient enough to work in a few seconds.\n",
    "\n",
    "- All necessary imports are made when required and specific functions/attributes only.\n"
   ]
  },
  {
   "cell_type": "markdown",
   "metadata": {},
   "source": [
    "<h3>Collecting the Data</h3>\n",
    "<h4>Data</h4>\n",
    "\n",
    "Our dataset contains a collection of Shakespeare' Sonnets, downloaded from the following link :\n",
    "https://storage.googleapis.com/laurencemoroney-blog.appspot.com/sonnets.txt\n",
    "\n",
    "<h4>Data Sample</h4>\n",
    "\n",
    "Shall sum my count and make my old excuse,'\n",
    "Proving his beauty by succession thine!\n",
    "This were to be new made when thou art old,\n",
    "And see thy blood warm when thou feel'st it cold.\n",
    "Look in thy glass, and tell the face thou viewest\n",
    "Now is the time that face should form another;\n",
    "Whose fresh repair if now thou not renewest,\n",
    "Thou dost beguile the world, unbless some mother.\n",
    "For where is she so fair whose unear'd womb\n",
    "Disdains the tillage of thy husbandry?\n"
   ]
  },
  {
   "cell_type": "code",
   "execution_count": 1,
   "metadata": {},
   "outputs": [
    {
     "name": "stderr",
     "output_type": "stream",
     "text": [
      "--2022-02-02 13:38:16--  http://%5C/\n",
      "Resolving \\\\ (\\\\)... failed: No such host is known. .\n",
      "wget: unable to resolve host address '\\\\'\n",
      "--2022-02-02 13:38:16--  https://storage.googleapis.com/laurencemoroney-blog.appspot.com/sonnets.txt\n",
      "Resolving storage.googleapis.com (storage.googleapis.com)... 142.250.194.112, 142.250.206.144, 142.250.194.240, ...\n",
      "Connecting to storage.googleapis.com (storage.googleapis.com)|142.250.194.112|:443... connected.\n",
      "WARNING: cannot verify storage.googleapis.com's certificate, issued by 'CN=GTS CA 1C3,O=Google Trust Services LLC,C=US':\n",
      "  Unable to locally verify the issuer's authority.\n",
      "HTTP request sent, awaiting response... 200 OK\n",
      "Length: 93578 (91K) [text/plain]\n",
      "Saving to: 'sonnets.txt'\n",
      "\n",
      "     0K .......... .......... .......... .......... .......... 54%  607K 0s\n",
      "    50K .......... .......... .......... .......... .         100% 1.02M=0.1s\n",
      "\n",
      "2022-02-02 13:38:18 (750 KB/s) - 'sonnets.txt' saved [93578/93578]\n",
      "\n",
      "--2022-02-02 13:38:18--  http://%5C/\n",
      "Resolving \\\\ (\\\\)... failed: No such host is known. .\n",
      "wget: unable to resolve host address '\\\\'\n",
      "FINISHED --2022-02-02 13:38:18--\n",
      "Total wall clock time: 2.3s\n",
      "Downloaded: 1 files, 91K in 0.1s (750 KB/s)\n"
     ]
    }
   ],
   "source": [
    "!wget --no-check-certificate \\ https://storage.googleapis.com/laurencemoroney-blog.appspot.com/sonnets.txt \\ -O sonnets.txt "
   ]
  },
  {
   "cell_type": "markdown",
   "metadata": {},
   "source": [
    "<h4>Exploratory data Analysis</h4>\n"
   ]
  },
  {
   "cell_type": "code",
   "execution_count": 9,
   "metadata": {},
   "outputs": [
    {
     "name": "stdout",
     "output_type": "stream",
     "text": [
      "Number of lines in dataset: 2158\n",
      "Number of unique words in dataset: 3210\n",
      "Max number of words in a sentence: 11\n",
      "Min number of words in a sentence: 5\n"
     ]
    }
   ],
   "source": [
    "from tensorflow import data\n",
    "\n",
    "dataset = data.TextLineDataset(\"sonnets.txt\")\n",
    "\n",
    "# count no. of lines in the dataset\n",
    "raw_data = [element.decode(\"utf-8\") for element in dataset.as_numpy_iterator()]\n",
    "print(\"Number of lines in dataset: %s\" % len(raw_data))\n",
    "\n",
    "from tensorflow.keras.preprocessing.text import Tokenizer\n",
    "\n",
    "# count no. of unique words in dataset\n",
    "tokenizer = Tokenizer()\n",
    "tokenizer.fit_on_texts(raw_data)\n",
    "print(\"Number of unique words in dataset: %s\" % len(tokenizer.word_index))\n",
    "# find max and min no. of words in a sentence\n",
    "tokenized_data = tokenizer.texts_to_sequences(raw_data)\n",
    "lines_length = [len(sequence) for sequence in tokenized_data if len(sequence) > 1]\n",
    "print(\n",
    "    \"Max number of words in a sentence: {}\\nMin number of words in a sentence: {}\".format(\n",
    "        max(lines_length), min(lines_length)\n",
    "    )\n",
    ")\n"
   ]
  },
  {
   "cell_type": "code",
   "execution_count": null,
   "metadata": {},
   "outputs": [],
   "source": [
    "# #plot a graph\n",
    "# from seaborn import displot\n",
    "# from pandas import DataFrame\n",
    "# from matplotlib.pyplot import grid\n",
    "\n",
    "# temp_df=DataFrame({'n_lines':lines_length})\n",
    "# temp_df=temp_df.n_lines.value_counts().reset_index()\n",
    "# displot(lines_length,kind='hist',color='crimson',aspect=1,height=5)\n",
    "# grid(True)\n"
   ]
  },
  {
   "cell_type": "markdown",
   "metadata": {},
   "source": [
    "<h3>Prepare the data to feed to model for training</h3>\n",
    "Steps:\n",
    "\n",
    "1. Tokenizing the data, using a word Tokenizer.\n",
    "2. Create n-gram sequences.\n",
    "3. Pre-padding the sequences to make them of equal lengths.\n",
    "4. Splitting the last word from each sentence to form label.\n",
    "\n",
    "For example:\n",
    "\n",
    "<li> Sentence: 'FROM fairest creatures we desire increase'</li><br>\n",
    "<li> Step-1: [34, 417, 877, 166, 213, 517]</li><br>\n",
    "<li> Step-2: Create n-gram sequences<br>&emsp;[[34, 417],\n",
    " <br>&emsp;[34, 417, 877],\n",
    " <br>&emsp;[34, 417, 877, 166],\n",
    " <br>&emsp;[34, 417, 877, 166, 213],\n",
    " <br>&emsp;[34, 417, 877, 166, 213, 517]]</li><br>\n",
    "<li> Step-3: Pre-Padding the sequences to make them of equal lengths.\n",
    "<br>&emsp;[  0,   0,   0,   0,   0,   0,   0,   0,   0,  34, 417],\n",
    "<br>&emsp;[  0,   0,   0,   0,   0,   0,   0,   0,  34, 417, 877],\n",
    "<br>&emsp;[  0,   0,   0,   0,   0,   0,   0,  34, 417, 877, 166],\n",
    "<br>&emsp;[  0,   0,   0,   0,   0,   0,  34, 417, 877, 166, 213],\n",
    "<br>&emsp;[  0,   0,   0,   0,   0,  34, 417, 877, 166, 213, 517]</li><br>\n",
    "<li> Step-4: Final training sequences and labels.\n",
    "<br>&emsp;[  0,   0,   0,   0,   0,   0,   0,   0,   0,  34, 417],&emsp; 417\n",
    "<br>&emsp;[  0,   0,   0,   0,   0,   0,   0,   0,  34, 417, 877],&emsp; 877\n",
    "<br>&emsp;[  0,   0,   0,   0,   0,   0,   0,  34, 417, 877, 166],&emsp; 166\n",
    "<br>&emsp;[  0,   0,   0,   0,   0,   0,  34, 417, 877, 166, 213],&emsp; 213\n",
    "<br>&emsp;[  0,   0,   0,   0,   0,  34, 417, 877, 166, 213, 517] &emsp; 517</li><br>\n"
   ]
  },
  {
   "cell_type": "code",
   "execution_count": 10,
   "metadata": {},
   "outputs": [],
   "source": [
    "# tokenize the data using a word Tokenizer\n",
    "from tensorflow.keras.preprocessing.text import Tokenizer\n",
    "\n",
    "tokenizer = Tokenizer()\n",
    "tokenizer.fit_on_texts(raw_data)\n",
    "tokenized_data = tokenizer.texts_to_sequences(raw_data)\n",
    "\n"
   ]
  },
  {
   "cell_type": "code",
   "execution_count": 11,
   "metadata": {},
   "outputs": [],
   "source": [
    "# create n-grams\n",
    "training_sequences = [\n",
    "    sequence[:i] for sequence in tokenized_data for i in range(2, len(sequence) + 1)\n",
    "]\n"
   ]
  },
  {
   "cell_type": "code",
   "execution_count": 12,
   "metadata": {},
   "outputs": [],
   "source": [
    "# padding the data with zeros\n",
    "from tensorflow.keras.preprocessing.sequence import pad_sequences\n",
    "\n",
    "padded_sequences = pad_sequences(training_sequences)\n"
   ]
  },
  {
   "cell_type": "code",
   "execution_count": 18,
   "metadata": {},
   "outputs": [],
   "source": [
    "# prepare the training data\n",
    "x_train, y_train = padded_sequences[:, :-1], padded_sequences[:, -1]\n"
   ]
  },
  {
   "cell_type": "markdown",
   "metadata": {},
   "source": [
    "<h3>Defining and Training the Model</h3>\n",
    "We are using a Sequential model with the following layers:\n",
    "\n",
    "1. Embedding\n",
    "2. Bidirectional LSTM\n",
    "3. Dropout\n",
    "4. LSTM\n",
    "5. Dense\n",
    "6. Dense\n",
    "\n",
    "The parameters used are:\n",
    "\n",
    "<li> vocab_size=len(tokenizer.word_index)+1\n",
    "<li> wv_dims=100\n",
    "<li> input_length=x_train.shape[1]\n",
    "<li> dropout_rate=0.2\n",
    "<li> lstm_units=128\n",
    "<li> regularization_rate=0.01\n",
    "<li> epochs=50\n"
   ]
  },
  {
   "cell_type": "code",
   "execution_count": 43,
   "metadata": {},
   "outputs": [],
   "source": [
    "# setting the parameters for model with Bidirectional LSTM and LSTM layers\n",
    "vocab_size = len(tokenizer.word_index) + 1\n",
    "wv_dims = 100\n",
    "input_length = x_train.shape[1]\n",
    "# dropout_rate = 0.2\n",
    "# lstm_units = 128\n",
    "# regularization_rate = 0.01\n",
    "# epochs = 50\n",
    "\n"
   ]
  },
  {
   "cell_type": "code",
   "execution_count": 7,
   "metadata": {},
   "outputs": [],
   "source": [
    "from tensorflow.keras import Sequential\n",
    "from tensorflow.keras.layers import Embedding, Bidirectional, LSTM, Dropout, Dense\n",
    "from tensorflow.keras import regularizers\n",
    "from tensorflow.keras.callbacks import ModelCheckpoint\n"
   ]
  },
  {
   "cell_type": "code",
   "execution_count": 53,
   "metadata": {},
   "outputs": [
    {
     "name": "stdout",
     "output_type": "stream",
     "text": [
      "Model: \"sequential_13\"\n",
      "_________________________________________________________________\n",
      " Layer (type)                Output Shape              Param #   \n",
      "=================================================================\n",
      " embedding_12 (Embedding)    (None, 10, 100)           321100    \n",
      "                                                                 \n",
      " bidirectional_12 (Bidirecti  (None, 10, 256)          234496    \n",
      " onal)                                                           \n",
      "                                                                 \n",
      " dropout_12 (Dropout)        (None, 10, 256)           0         \n",
      "                                                                 \n",
      " lstm_25 (LSTM)              (None, 128)               197120    \n",
      "                                                                 \n",
      " dense_24 (Dense)            (None, 802)               103458    \n",
      "                                                                 \n",
      " dense_25 (Dense)            (None, 3211)              2578433   \n",
      "                                                                 \n",
      "=================================================================\n",
      "Total params: 3,434,607\n",
      "Trainable params: 3,434,607\n",
      "Non-trainable params: 0\n",
      "_________________________________________________________________\n"
     ]
    }
   ],
   "source": [
    "model = Sequential()\n",
    "model.add(Embedding(vocab_size, wv_dims, input_length=input_length))\n",
    "model.add(Bidirectional(LSTM(units=128, return_sequences=True)))\n",
    "model.add(Dropout(rate=0.1))\n",
    "model.add(LSTM(units=128))\n",
    "model.add(\n",
    "    Dense(units=vocab_size//4, activation=\"relu\", activity_regularizer=regularizers.L2(l2=0.01),)\n",
    ")\n",
    "model.add(Dense(vocab_size, activation=\"softmax\"))\n",
    "model.compile(\n",
    "    optimizer=\"adam\", loss=\"sparse_categorical_crossentropy\", metrics=[\"accuracy\"]\n",
    ")\n",
    "# checkpoint = ModelCheckpoint(\n",
    "    # \"../Writing_like_shakespeare/sm_LSTM.weights.best.hdf5\",\n",
    "    # monitor=\"val_loss\",\n",
    "    # verbose=1,\n",
    "    # save_best_only=True,\n",
    "    # mode=\"min\",\n",
    "# )\n",
    "model.summary()\n"
   ]
  },
  {
   "cell_type": "code",
   "execution_count": 54,
   "metadata": {},
   "outputs": [],
   "source": [
    "from tensorflow.keras.callbacks import TensorBoard"
   ]
  },
  {
   "cell_type": "code",
   "execution_count": 55,
   "metadata": {},
   "outputs": [],
   "source": [
    "tensorboard_callback=TensorBoard(log_dir='../Writing_like_shakespeare/tb_logs')"
   ]
  },
  {
   "cell_type": "code",
   "execution_count": 56,
   "metadata": {},
   "outputs": [
    {
     "name": "stdout",
     "output_type": "stream",
     "text": [
      "Epoch 1/50\n",
      "97/97 [==============================] - 32s 244ms/step - loss: 7.1143 - accuracy: 0.0209 - val_loss: 6.8480 - val_accuracy: 0.0162\n",
      "Epoch 2/50\n",
      "97/97 [==============================] - 23s 233ms/step - loss: 6.5859 - accuracy: 0.0222 - val_loss: 6.8415 - val_accuracy: 0.0178\n",
      "Epoch 3/50\n",
      "97/97 [==============================] - 21s 214ms/step - loss: 6.4471 - accuracy: 0.0275 - val_loss: 6.8435 - val_accuracy: 0.0220\n",
      "Epoch 4/50\n",
      "97/97 [==============================] - 21s 220ms/step - loss: 6.2957 - accuracy: 0.0310 - val_loss: 6.8949 - val_accuracy: 0.0200\n",
      "Epoch 5/50\n",
      "97/97 [==============================] - 22s 222ms/step - loss: 6.1781 - accuracy: 0.0340 - val_loss: 6.9839 - val_accuracy: 0.0230\n",
      "Epoch 6/50\n",
      "97/97 [==============================] - 21s 216ms/step - loss: 6.0572 - accuracy: 0.0397 - val_loss: 7.0964 - val_accuracy: 0.0314\n",
      "Epoch 7/50\n",
      "97/97 [==============================] - 21s 218ms/step - loss: 5.9218 - accuracy: 0.0452 - val_loss: 7.1848 - val_accuracy: 0.0255\n",
      "Epoch 8/50\n",
      "97/97 [==============================] - 21s 216ms/step - loss: 5.7589 - accuracy: 0.0496 - val_loss: 7.2735 - val_accuracy: 0.0343\n",
      "Epoch 9/50\n",
      "97/97 [==============================] - 21s 215ms/step - loss: 5.5914 - accuracy: 0.0601 - val_loss: 7.3484 - val_accuracy: 0.0294\n",
      "Epoch 10/50\n",
      "97/97 [==============================] - 21s 217ms/step - loss: 5.4151 - accuracy: 0.0693 - val_loss: 7.4512 - val_accuracy: 0.0288\n",
      "Epoch 11/50\n",
      "97/97 [==============================] - 21s 218ms/step - loss: 5.2308 - accuracy: 0.0787 - val_loss: 7.7006 - val_accuracy: 0.0333\n",
      "Epoch 12/50\n",
      "97/97 [==============================] - 22s 224ms/step - loss: 5.0434 - accuracy: 0.0914 - val_loss: 7.7466 - val_accuracy: 0.0349\n",
      "Epoch 13/50\n",
      "97/97 [==============================] - 23s 236ms/step - loss: 4.8537 - accuracy: 0.1065 - val_loss: 8.1006 - val_accuracy: 0.0369\n",
      "Epoch 14/50\n",
      "97/97 [==============================] - 26s 269ms/step - loss: 4.6681 - accuracy: 0.1237 - val_loss: 8.2780 - val_accuracy: 0.0339\n",
      "Epoch 15/50\n",
      "97/97 [==============================] - 22s 230ms/step - loss: 4.4859 - accuracy: 0.1393 - val_loss: 8.5056 - val_accuracy: 0.0372\n",
      "Epoch 16/50\n",
      "97/97 [==============================] - 22s 224ms/step - loss: 4.3005 - accuracy: 0.1626 - val_loss: 8.7650 - val_accuracy: 0.0323\n",
      "Epoch 17/50\n",
      "97/97 [==============================] - 22s 228ms/step - loss: 4.1024 - accuracy: 0.1888 - val_loss: 9.0002 - val_accuracy: 0.0317\n",
      "Epoch 18/50\n",
      "97/97 [==============================] - 21s 221ms/step - loss: 3.9125 - accuracy: 0.2186 - val_loss: 9.1942 - val_accuracy: 0.0327\n",
      "Epoch 19/50\n",
      "97/97 [==============================] - 21s 220ms/step - loss: 3.7167 - accuracy: 0.2539 - val_loss: 9.6945 - val_accuracy: 0.0369\n",
      "Epoch 20/50\n",
      "97/97 [==============================] - 21s 219ms/step - loss: 3.5102 - accuracy: 0.2985 - val_loss: 9.6441 - val_accuracy: 0.0362\n",
      "Epoch 21/50\n",
      "97/97 [==============================] - 21s 221ms/step - loss: 3.3070 - accuracy: 0.3409 - val_loss: 9.9707 - val_accuracy: 0.0352\n",
      "Epoch 22/50\n",
      "97/97 [==============================] - 24s 252ms/step - loss: 3.1057 - accuracy: 0.3896 - val_loss: 10.2298 - val_accuracy: 0.0323\n",
      "Epoch 23/50\n",
      "97/97 [==============================] - 23s 240ms/step - loss: 2.9215 - accuracy: 0.4401 - val_loss: 10.2658 - val_accuracy: 0.0352\n",
      "Epoch 24/50\n",
      "97/97 [==============================] - 22s 227ms/step - loss: 2.7380 - accuracy: 0.4849 - val_loss: 10.4943 - val_accuracy: 0.0314\n",
      "Epoch 25/50\n",
      "97/97 [==============================] - 22s 226ms/step - loss: 2.5610 - accuracy: 0.5283 - val_loss: 10.6295 - val_accuracy: 0.0323\n",
      "Epoch 26/50\n",
      "97/97 [==============================] - 21s 217ms/step - loss: 2.4022 - accuracy: 0.5683 - val_loss: 10.7822 - val_accuracy: 0.0310\n",
      "Epoch 27/50\n",
      "97/97 [==============================] - 21s 220ms/step - loss: 2.2493 - accuracy: 0.6072 - val_loss: 11.0873 - val_accuracy: 0.0307\n",
      "Epoch 28/50\n",
      "97/97 [==============================] - 19s 200ms/step - loss: 2.1068 - accuracy: 0.6434 - val_loss: 11.0444 - val_accuracy: 0.0307\n",
      "Epoch 29/50\n",
      "97/97 [==============================] - 19s 199ms/step - loss: 1.9790 - accuracy: 0.6760 - val_loss: 11.2866 - val_accuracy: 0.0323\n",
      "Epoch 30/50\n",
      "97/97 [==============================] - 19s 200ms/step - loss: 1.8641 - accuracy: 0.7057 - val_loss: 11.3393 - val_accuracy: 0.0307\n",
      "Epoch 31/50\n",
      "97/97 [==============================] - 20s 206ms/step - loss: 1.7560 - accuracy: 0.7301 - val_loss: 11.3558 - val_accuracy: 0.0297\n",
      "Epoch 32/50\n",
      "97/97 [==============================] - 19s 199ms/step - loss: 1.6613 - accuracy: 0.7511 - val_loss: 11.3899 - val_accuracy: 0.0291\n",
      "Epoch 33/50\n",
      "97/97 [==============================] - 20s 202ms/step - loss: 1.5786 - accuracy: 0.7673 - val_loss: 11.2940 - val_accuracy: 0.0278\n",
      "Epoch 34/50\n",
      "97/97 [==============================] - 19s 199ms/step - loss: 1.5023 - accuracy: 0.7836 - val_loss: 11.3414 - val_accuracy: 0.0285\n",
      "Epoch 35/50\n",
      "97/97 [==============================] - 20s 205ms/step - loss: 1.4301 - accuracy: 0.7997 - val_loss: 11.2599 - val_accuracy: 0.0297\n",
      "Epoch 36/50\n",
      "97/97 [==============================] - 20s 204ms/step - loss: 1.3652 - accuracy: 0.8048 - val_loss: 11.2921 - val_accuracy: 0.0275\n",
      "Epoch 37/50\n",
      "97/97 [==============================] - 20s 202ms/step - loss: 1.3084 - accuracy: 0.8170 - val_loss: 11.2641 - val_accuracy: 0.0278\n",
      "Epoch 38/50\n",
      "97/97 [==============================] - 20s 201ms/step - loss: 1.2555 - accuracy: 0.8235 - val_loss: 11.3830 - val_accuracy: 0.0265\n",
      "Epoch 39/50\n",
      "97/97 [==============================] - 20s 204ms/step - loss: 1.2122 - accuracy: 0.8302 - val_loss: 11.2488 - val_accuracy: 0.0265\n",
      "Epoch 40/50\n",
      "97/97 [==============================] - 20s 208ms/step - loss: 1.1708 - accuracy: 0.8342 - val_loss: 11.1920 - val_accuracy: 0.0301\n",
      "Epoch 41/50\n",
      "97/97 [==============================] - 19s 198ms/step - loss: 1.1283 - accuracy: 0.8410 - val_loss: 11.2068 - val_accuracy: 0.0236\n",
      "Epoch 42/50\n",
      "97/97 [==============================] - 19s 196ms/step - loss: 1.0950 - accuracy: 0.8425 - val_loss: 11.2435 - val_accuracy: 0.0275\n",
      "Epoch 43/50\n",
      "97/97 [==============================] - 20s 208ms/step - loss: 1.0639 - accuracy: 0.8458 - val_loss: 11.1496 - val_accuracy: 0.0294\n",
      "Epoch 44/50\n",
      "97/97 [==============================] - 20s 208ms/step - loss: 1.0388 - accuracy: 0.8478 - val_loss: 11.1247 - val_accuracy: 0.0288\n",
      "Epoch 45/50\n",
      "97/97 [==============================] - 20s 208ms/step - loss: 1.0080 - accuracy: 0.8487 - val_loss: 11.0488 - val_accuracy: 0.0310\n",
      "Epoch 46/50\n",
      "97/97 [==============================] - 20s 201ms/step - loss: 0.9820 - accuracy: 0.8512 - val_loss: 11.0333 - val_accuracy: 0.0275\n",
      "Epoch 47/50\n",
      "97/97 [==============================] - 19s 199ms/step - loss: 0.9590 - accuracy: 0.8525 - val_loss: 11.0226 - val_accuracy: 0.0314\n",
      "Epoch 48/50\n",
      "97/97 [==============================] - 19s 200ms/step - loss: 0.9389 - accuracy: 0.8531 - val_loss: 10.9392 - val_accuracy: 0.0320\n",
      "Epoch 49/50\n",
      "97/97 [==============================] - 20s 203ms/step - loss: 0.9232 - accuracy: 0.8529 - val_loss: 10.9824 - val_accuracy: 0.0275\n",
      "Epoch 50/50\n",
      "97/97 [==============================] - 19s 201ms/step - loss: 0.9025 - accuracy: 0.8552 - val_loss: 10.9074 - val_accuracy: 0.0259\n"
     ]
    }
   ],
   "source": [
    "# train the model\n",
    "history = model.fit(\n",
    "    x_train,\n",
    "    y_train,\n",
    "    batch_size=128,\n",
    "    validation_split=0.2,\n",
    "    verbose=1,\n",
    "    epochs=50,\n",
    "    callbacks=[tensorboard_callback],\n",
    ")"
   ]
  },
  {
   "cell_type": "code",
   "execution_count": 57,
   "metadata": {},
   "outputs": [],
   "source": [
    "model.save(\"../Writing_like_shakespeare/sm_LSTM.weights.best.hdf5\")"
   ]
  },
  {
   "cell_type": "code",
   "execution_count": 58,
   "metadata": {},
   "outputs": [
    {
     "data": {
      "image/png": "[encoded data removed]",
      "text/plain": [
       "<Figure size 1152x360 with 2 Axes>"
      ]
     },
     "metadata": {
      "needs_background": "light"
     },
     "output_type": "display_data"
    }
   ],
   "source": [
    "from matplotlib.pyplot import figure, plot, title, ylabel, xlabel, legend, subplot, show\n",
    "figure(figsize=(16, 5))\n",
    "subplot(121)\n",
    "title(\"Accuracy improvement with no. of epochs\")\n",
    "plot(history.history[\"accuracy\"])\n",
    "plot(history.history[\"val_accuracy\"])\n",
    "ylabel(\"Accuracy\")\n",
    "xlabel(\"Epochs\")\n",
    "legend([\"accuracy\", \"validation accuracy\"])\n",
    "subplot(122)\n",
    "title(\"Loss reduction with no. of epochs\")\n",
    "plot(history.history[\"loss\"])\n",
    "plot(history.history[\"val_loss\"])\n",
    "ylabel(\"Loss\")\n",
    "xlabel(\"Epochs\")\n",
    "legend([\"Loss\",\"Validation Loss\"])\n",
    "show()\n"
   ]
  },
  {
   "cell_type": "markdown",
   "metadata": {},
   "source": [
    "<h3>Generate text using learned model"
   ]
  },
  {
   "cell_type": "code",
   "execution_count": 13,
   "metadata": {},
   "outputs": [],
   "source": [
    "#load the model\n",
    "from tensorflow.keras.models import load_model\n",
    "model=load_model(\"../Writing_like_shakespeare/sm_LSTM.weights.best.hdf5\")"
   ]
  },
  {
   "cell_type": "code",
   "execution_count": 14,
   "metadata": {},
   "outputs": [],
   "source": [
    "from numpy import argmax"
   ]
  },
  {
   "cell_type": "code",
   "execution_count": 16,
   "metadata": {},
   "outputs": [],
   "source": [
    "def generate_text(seed_text,next_words):\n",
    "    for _ in range(next_words):\n",
    "        tokenized_string=tokenizer.texts_to_sequences([seed_text])[0]\n",
    "        token_list=pad_sequences([tokenized_string],maxlen=x_train.shape[1])\n",
    "        predicted= argmax(model.predict(token_list),axis=-1)\n",
    "        output_word=\"\"\n",
    "        for word, index in tokenizer.word_index.items():\n",
    "            if index== predicted:\n",
    "                output_word=word\n",
    "                break\n",
    "        seed_text+=\" \"+output_word\n",
    "    return seed_text"
   ]
  },
  {
   "cell_type": "code",
   "execution_count": 19,
   "metadata": {},
   "outputs": [
    {
     "data": {
      "text/plain": [
       "\"Oh once great men have fallen hours with heaven's sweetest hand defaced in land fire and both rage alone is as mine eye may be decay so rare ' have often lived alone rotten ' with fullness cost and weeks weeks weeks weeks ' with fullness cover none ' ' ' ' ' ' ' '\""
      ]
     },
     "execution_count": 19,
     "metadata": {},
     "output_type": "execute_result"
    }
   ],
   "source": [
    "seed_text = \"Oh once great men have fallen\"\n",
    "generate_text(seed_text=seed_text, next_words=50)\n"
   ]
  },
  {
   "cell_type": "code",
   "execution_count": 23,
   "metadata": {},
   "outputs": [
    {
     "data": {
      "text/plain": [
       "\" '  in 'twixt first a tomb the womb wherein they grew to prove none ' ' ' ' ' ' ' ' ' sadly fullness cost alone heaven expired gems gems gems gems gems gems rich aspect aspect gems gems gems day by eyes shall done shall see me no remedy\""
      ]
     },
     "execution_count": 23,
     "metadata": {},
     "output_type": "execute_result"
    }
   ],
   "source": [
    "generate_text(\" ' \",next_words=50)"
   ]
  }
 ],
 "metadata": {
  "interpreter": {
   "hash": "76322c893dab8b09142fd7bae0c6d93651af8b59effcf127727af7ee52d1bae0"
  },
  "kernelspec": {
   "display_name": "Python 3.9.7 64-bit ('base': conda)",
   "language": "python",
   "name": "python3"
  },
  "language_info": {
   "codemirror_mode": {
    "name": "ipython",
    "version": 3
   },
   "file_extension": ".py",
   "mimetype": "text/x-python",
   "name": "python",
   "nbconvert_exporter": "python",
   "pygments_lexer": "ipython3",
   "version": "3.9.7"
  },
  "orig_nbformat": 4
 },
 "nbformat": 4,
 "nbformat_minor": 2
}
