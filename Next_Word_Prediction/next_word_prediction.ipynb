{
 "cells": [
  {
   "cell_type": "markdown",
   "metadata": {},
   "source": [
    "<h1>Next Word Prediction using Deep Learning</h1>\n",
    "- Kashish\n",
    "\n",
    "<h3>Problem Statement</h3>\n",
    "We are given an incomplete sentence, we want to build a Deep Learning System that could predict next word in a way that it seems like a human made that sentence.\n",
    "\n",
    "\n",
    "<h5>Data</h5>\n",
    "Our data is an aerospace guidelines data.\n",
    "\n",
    "<h5>Data Sample</h5>\n",
    " 'ops part 1 prescribes requirements applicable to the operation of any civil     aeroplane for the purpose of commercial air transportation by any operator whose principal place of business and, if any, registered office is in a member state, hereafter called operator.',\n",
    " 'ops 1 does not apply:',\n",
    " 'to aeroplanes when used in military, customs and police services; nor',\n",
    " 'to parachute dropping and fire-fighting flights, and to associated positioning and return flights in which the persons carried are those who would normally be carried on parachute dropping or fire-fighting; nor',"
   ]
  },
  {
   "cell_type": "code",
   "execution_count": 1,
   "metadata": {},
   "outputs": [
    {
     "data": {
      "text/plain": [
       "['ops part 1 prescribes requirements applicable to the operation of any civil aeroplane for the purpose of commercial air transportation by any operator whose principal place of business and, if any, registered office is in a member state, hereafter called operator.',\n",
       " 'ops 1 does not apply:']"
      ]
     },
     "execution_count": 1,
     "metadata": {},
     "output_type": "execute_result"
    }
   ],
   "source": [
    "raw_data=open('../Next_Word_Prediction/50klines.txt',encoding='utf-8').read()\n",
    "raw_data=raw_data.lower().split('\\n')[:-21]\n",
    "raw_data[0:2]"
   ]
  },
  {
   "cell_type": "markdown",
   "metadata": {},
   "source": [
    "<h5>Data Preprocessing and Exploratiry Data Analysis</h5>\n",
    "<li>Remove punctuations\n",
    "<li>Count no. of lines\n",
    "<li>Count no. of unique words\n",
    "<li>Find min and max length of a sentence"
   ]
  },
  {
   "cell_type": "code",
   "execution_count": 2,
   "metadata": {},
   "outputs": [],
   "source": [
    "\n",
    "from string import punctuation\n",
    "from tensorflow.keras.preprocessing.text import Tokenizer\n"
   ]
  },
  {
   "cell_type": "code",
   "execution_count": 3,
   "metadata": {},
   "outputs": [
    {
     "name": "stdout",
     "output_type": "stream",
     "text": [
      "Number of lines in dataset : 50000\n"
     ]
    }
   ],
   "source": [
    "#remove punctuations\n",
    "raw_data=[s.translate(str.maketrans('','',punctuation)) for s in raw_data]\n",
    "#count number of lines in datafile\n",
    "print('Number of lines in dataset : {}'.format(len(raw_data)))\n",
    "#count number of unique words in dataset\n",
    "tokenizer=Tokenizer()\n",
    "tokenizer.fit_on_texts(raw_data)\n",
    "print('Number of unique words in dataset : {}'.format(len(tokenizer.word_index)))\n",
    "#find minimum and maximum number of words in a sentence\n",
    "tokenized_data=tokenizer.texts_to_sequences(raw_data)\n",
    "lines_length=[len(sentence) for sentence in tokenized_data]\n",
    "print('Max length of a Sentence : {}\\nMin length of a Sentence : {}'.format(max(lines_length),min(lines_length)))"
   ]
  },
  {
   "cell_type": "code",
   "execution_count": null,
   "metadata": {},
   "outputs": [],
   "source": [
    "from pandas import DataFrame\n",
    "from seaborn import displot"
   ]
  },
  {
   "cell_type": "code",
   "execution_count": null,
   "metadata": {},
   "outputs": [],
   "source": [
    "temp_df=DataFrame({'n_lines':lines_length})\n",
    "temp_df=temp_df.n_lines.value_counts().reset_index()"
   ]
  },
  {
   "cell_type": "code",
   "execution_count": null,
   "metadata": {},
   "outputs": [
    {
     "data": {
      "text/plain": [
       "<seaborn.axisgrid.FacetGrid at 0x219d0c85ca0>"
      ]
     },
     "execution_count": 65,
     "metadata": {},
     "output_type": "execute_result"
    },
    {
     "data": {
      "image/png": "[encoded data removed]",
      "text/plain": [
       "<Figure size 720x720 with 1 Axes>"
      ]
     },
     "metadata": {
      "needs_background": "light"
     },
     "output_type": "display_data"
    }
   ],
   "source": [
    "displot(x=temp_df.iloc[:,1],y=temp_df.iloc[:,0],aspect=1,height=10,color='crimson').set(title='No. of Words v/s No. of lines').set_axis_labels('No. of lines','No. of words',fontsize=20)"
   ]
  }
 ],
 "metadata": {
  "interpreter": {
   "hash": "76322c893dab8b09142fd7bae0c6d93651af8b59effcf127727af7ee52d1bae0"
  },
  "kernelspec": {
   "display_name": "Python 3.9.7 64-bit ('base': conda)",
   "language": "python",
   "name": "python3"
  },
  "language_info": {
   "codemirror_mode": {
    "name": "ipython",
    "version": 3
   },
   "file_extension": ".py",
   "mimetype": "text/x-python",
   "name": "python",
   "nbconvert_exporter": "python",
   "pygments_lexer": "ipython3",
   "version": "3.9.7"
  },
  "orig_nbformat": 4
 },
 "nbformat": 4,
 "nbformat_minor": 2
}
